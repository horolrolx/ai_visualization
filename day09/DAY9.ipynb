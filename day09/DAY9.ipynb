{
 "cells": [
  {
   "cell_type": "code",
   "execution_count": 1,
   "metadata": {},
   "outputs": [],
   "source": [
    "# 동영상 다운로드\n",
    "# !wget https://download.blender.org/peach/bigbuckbunny_movies/BigBuckBunny_320x180.mp4 -O BigBuckBunny_320x180.mp4"
   ]
  },
  {
   "cell_type": "code",
   "execution_count": 2,
   "metadata": {},
   "outputs": [],
   "source": [
    "import cv2"
   ]
  },
  {
   "cell_type": "code",
   "execution_count": 3,
   "metadata": {},
   "outputs": [
    {
     "name": "stdout",
     "output_type": "stream",
     "text": [
      "success!\n"
     ]
    }
   ],
   "source": [
    "# 파일 읽기\n",
    "filepath = 'BigBuckBunny_320x180.mp4'\n",
    "\n",
    "# 동영상 읽기\n",
    "try:\n",
    "    cap = cv2.VideoCapture(filepath)\n",
    "    print('success!')\n",
    "except:\n",
    "    print('fail')\n",
    "    # break"
   ]
  },
  {
   "cell_type": "code",
   "execution_count": 4,
   "metadata": {},
   "outputs": [],
   "source": [
    "# 영상이 안 읽힌 경우 메시지\n",
    "length = int(cap.get(cv2.CAP_PROP_FRAME_COUNT))\n",
    "if not cap.isOpened():\n",
    "    print(\"Video is unavailable :\", filepath)\n",
    "    exit(0)"
   ]
  },
  {
   "cell_type": "code",
   "execution_count": 5,
   "metadata": {},
   "outputs": [
    {
     "data": {
      "text/plain": [
       "14315"
      ]
     },
     "execution_count": 5,
     "metadata": {},
     "output_type": "execute_result"
    }
   ],
   "source": [
    "# 전체 프레임 갯수 저장\n",
    "length = int(cap.get(cv2.CAP_PROP_FRAME_COUNT))\n",
    "length"
   ]
  },
  {
   "cell_type": "code",
   "execution_count": 7,
   "metadata": {},
   "outputs": [
    {
     "name": "stdout",
     "output_type": "stream",
     "text": [
      "Saved frame : 718.0.jpg\n",
      "Saved frame : 719.0.jpg\n",
      "Saved frame : 720.0.jpg\n",
      "Saved frame : 721.0.jpg\n",
      "Saved frame : 722.0.jpg\n",
      "Saved frame : 723.0.jpg\n",
      "Saved frame : 724.0.jpg\n",
      "Saved frame : 725.0.jpg\n",
      "Saved frame : 726.0.jpg\n",
      "Saved frame : 727.0.jpg\n",
      "Saved frame : 728.0.jpg\n",
      "Saved frame : 729.0.jpg\n",
      "Saved frame : 730.0.jpg\n",
      "Saved frame : 731.0.jpg\n",
      "Saved frame : 732.0.jpg\n",
      "Saved frame : 733.0.jpg\n",
      "Saved frame : 734.0.jpg\n",
      "Saved frame : 735.0.jpg\n",
      "Saved frame : 736.0.jpg\n",
      "Saved frame : 737.0.jpg\n",
      "Saved frame : 738.0.jpg\n",
      "Saved frame : 739.0.jpg\n",
      "Saved frame : 740.0.jpg\n",
      "Saved frame : 741.0.jpg\n",
      "Saved frame : 742.0.jpg\n",
      "Saved frame : 743.0.jpg\n",
      "Saved frame : 744.0.jpg\n",
      "Saved frame : 745.0.jpg\n",
      "Saved frame : 746.0.jpg\n",
      "Saved frame : 747.0.jpg\n",
      "Saved frame : 748.0.jpg\n",
      "Saved frame : 749.0.jpg\n",
      "Saved frame : 750.0.jpg\n",
      "Saved frame : 751.0.jpg\n",
      "Saved frame : 752.0.jpg\n",
      "Saved frame : 753.0.jpg\n",
      "Saved frame : 754.0.jpg\n",
      "Saved frame : 755.0.jpg\n",
      "Saved frame : 756.0.jpg\n",
      "Saved frame : 757.0.jpg\n",
      "Saved frame : 758.0.jpg\n",
      "Saved frame : 759.0.jpg\n",
      "Saved frame : 760.0.jpg\n",
      "Saved frame : 761.0.jpg\n",
      "Saved frame : 762.0.jpg\n",
      "Saved frame : 763.0.jpg\n",
      "Saved frame : 764.0.jpg\n",
      "Saved frame : 765.0.jpg\n",
      "Saved frame : 766.0.jpg\n",
      "Saved frame : 767.0.jpg\n",
      "Saved frame : 768.0.jpg\n",
      "Saved frame : 769.0.jpg\n",
      "Saved frame : 770.0.jpg\n",
      "Saved frame : 771.0.jpg\n",
      "Saved frame : 772.0.jpg\n",
      "Saved frame : 773.0.jpg\n",
      "Saved frame : 774.0.jpg\n",
      "Saved frame : 775.0.jpg\n",
      "Saved frame : 776.0.jpg\n",
      "Saved frame : 777.0.jpg\n",
      "Saved frame : 778.0.jpg\n",
      "Saved frame : 779.0.jpg\n",
      "Saved frame : 780.0.jpg\n",
      "Saved frame : 781.0.jpg\n",
      "Saved frame : 782.0.jpg\n",
      "Saved frame : 783.0.jpg\n",
      "Saved frame : 784.0.jpg\n",
      "Saved frame : 785.0.jpg\n",
      "Saved frame : 786.0.jpg\n",
      "Saved frame : 787.0.jpg\n",
      "Saved frame : 788.0.jpg\n",
      "Saved frame : 789.0.jpg\n",
      "Saved frame : 790.0.jpg\n",
      "Saved frame : 791.0.jpg\n",
      "Saved frame : 792.0.jpg\n",
      "Saved frame : 793.0.jpg\n",
      "Saved frame : 794.0.jpg\n",
      "Saved frame : 795.0.jpg\n",
      "Saved frame : 796.0.jpg\n",
      "Saved frame : 797.0.jpg\n",
      "Saved frame : 798.0.jpg\n",
      "Saved frame : 799.0.jpg\n",
      "Saved frame : 800.0.jpg\n",
      "Saved frame : 801.0.jpg\n",
      "Saved frame : 802.0.jpg\n",
      "Saved frame : 803.0.jpg\n",
      "Saved frame : 804.0.jpg\n",
      "Saved frame : 805.0.jpg\n",
      "Saved frame : 806.0.jpg\n",
      "Saved frame : 807.0.jpg\n",
      "Saved frame : 808.0.jpg\n",
      "Saved frame : 809.0.jpg\n",
      "Saved frame : 810.0.jpg\n",
      "Saved frame : 811.0.jpg\n",
      "Saved frame : 812.0.jpg\n",
      "Saved frame : 813.0.jpg\n",
      "Saved frame : 814.0.jpg\n",
      "Saved frame : 815.0.jpg\n",
      "Saved frame : 816.0.jpg\n",
      "Saved frame : 817.0.jpg\n",
      "Saved frame : 818.0.jpg\n"
     ]
    },
    {
     "ename": "KeyboardInterrupt",
     "evalue": "",
     "output_type": "error",
     "traceback": [
      "\u001b[0;31m---------------------------------------------------------------------------\u001b[0m",
      "\u001b[0;31mKeyboardInterrupt\u001b[0m                         Traceback (most recent call last)",
      "Cell \u001b[0;32mIn[7], line 9\u001b[0m\n\u001b[1;32m      6\u001b[0m \u001b[38;5;28;01mif\u001b[39;00m cap\u001b[38;5;241m.\u001b[39mget(\u001b[38;5;241m1\u001b[39m) \u001b[38;5;241m==\u001b[39m length:\n\u001b[1;32m      7\u001b[0m     \u001b[38;5;28;01mbreak\u001b[39;00m\n\u001b[0;32m----> 9\u001b[0m key \u001b[38;5;241m=\u001b[39m \u001b[43mcv2\u001b[49m\u001b[38;5;241;43m.\u001b[39;49m\u001b[43mwaitKey\u001b[49m\u001b[43m(\u001b[49m\u001b[38;5;241;43m33\u001b[39;49m\u001b[43m)\u001b[49m\n\u001b[1;32m     10\u001b[0m \u001b[38;5;28;01mif\u001b[39;00m key \u001b[38;5;241m==\u001b[39m \u001b[38;5;241m27\u001b[39m: \u001b[38;5;66;03m# ESC\u001b[39;00m\n\u001b[1;32m     11\u001b[0m     \u001b[38;5;28;01mbreak\u001b[39;00m \n",
      "\u001b[0;31mKeyboardInterrupt\u001b[0m: "
     ]
    }
   ],
   "source": [
    "while True:\n",
    "    ret, frame = cap.read()\n",
    "    # cv2.imread('BigBuckBunny_320x180.mp4' + '/frame{}.jpg'.format(cap.get(1)), frame)\n",
    "    print('Saved frame : {}.jpg'.format(cap.get(1)))\n",
    "\n",
    "    if cap.get(1) == length:\n",
    "        break\n",
    "\n",
    "    key = cv2.waitKey(33)\n",
    "    if key == 27: # ESC\n",
    "        break \n",
    "\n",
    "cap.release()\n",
    "cv2.destroyAllWindows()"
   ]
  }
 ],
 "metadata": {
  "kernelspec": {
   "display_name": "tf_env",
   "language": "python",
   "name": "python3"
  },
  "language_info": {
   "codemirror_mode": {
    "name": "ipython",
    "version": 3
   },
   "file_extension": ".py",
   "mimetype": "text/x-python",
   "name": "python",
   "nbconvert_exporter": "python",
   "pygments_lexer": "ipython3",
   "version": "3.10.14"
  }
 },
 "nbformat": 4,
 "nbformat_minor": 2
}
