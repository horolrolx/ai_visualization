{
 "cells": [
  {
   "cell_type": "code",
   "execution_count": null,
   "metadata": {},
   "outputs": [],
   "source": [
    "# 동영상 다운로드\n",
    "# !wget https://download.blender.org/peach/bigbuckbunny_movies/BigBuckBunny_320x180.mp4 -O BigBuckBunny_320x180.mp4"
   ]
  },
  {
   "cell_type": "code",
   "execution_count": null,
   "metadata": {},
   "outputs": [],
   "source": [
    "import cv2"
   ]
  },
  {
   "cell_type": "code",
   "execution_count": null,
   "metadata": {},
   "outputs": [],
   "source": [
    "# 파일 읽기\n",
    "filepath = 'highway.mp4'\n",
    "\n",
    "# 동영상 읽기\n",
    "try:\n",
    "    cap = cv2.VideoCapture(filepath)\n",
    "    print('success!')\n",
    "except:\n",
    "    print('fail')\n",
    "    # break"
   ]
  },
  {
   "cell_type": "code",
   "execution_count": null,
   "metadata": {},
   "outputs": [],
   "source": [
    "# 객체 감지기 생성\n",
    "object_detector = cv2.createBackgroundSubtractorMOG2()"
   ]
  },
  {
   "cell_type": "code",
   "execution_count": null,
   "metadata": {},
   "outputs": [],
   "source": [
    "# 초당 1프레임 저장\n",
    "while True:\n",
    "    ret, frame = cap.read()\n",
    "    \n",
    "    # 프레임이 안 읽힌 경우는 통과\n",
    "    if not ret:\n",
    "        break\n",
    "    \n",
    "    # 흑백변환\n",
    "    frame_gray = cv2.cvtColor(frame, cv2.COLOR_BGR2GRAY)\n",
    "    \n",
    "    # 마스크 생성\n",
    "    mask = object_detector.apply(frame_gray)\n",
    "\n",
    "    # 배경 영상 받아오기\n",
    "    background = object_detector.getBackgroundImage()\n",
    "\n",
    "    # 좌표 가져와서 바운딩 박스 그리기\n",
    "    cnt, _, stats, _ = cv2.connectedComponentsWithStats(mask)\n",
    "\n",
    "    for i in range(1, cnt):\n",
    "        x, y, w, h, area = stats[i]\n",
    "\n",
    "        if area < 80:\n",
    "            continue\n",
    "\n",
    "        cv2.rectangle(frame, (x, y, w, h), (0, 0, 255), 2)\n",
    "\n",
    "    # 시각화\n",
    "    cv2.imshow('frame', frame)\n",
    "    cv2.imshow('background', background)\n",
    "    cv2.imshow('mask', mask)\n",
    "\n",
    "    # 중간에 나가는 키 설정\n",
    "    if cv2.waitKey(1) == 27:\n",
    "        break\n",
    "\n",
    "cap.release()\n",
    "cv2.destroyAllWindows"
   ]
  }
 ],
 "metadata": {
  "kernelspec": {
   "display_name": "tf_env",
   "language": "python",
   "name": "python3"
  },
  "language_info": {
   "codemirror_mode": {
    "name": "ipython",
    "version": 3
   },
   "file_extension": ".py",
   "mimetype": "text/x-python",
   "name": "python",
   "nbconvert_exporter": "python",
   "pygments_lexer": "ipython3",
   "version": "3.10.14"
  }
 },
 "nbformat": 4,
 "nbformat_minor": 2
}
